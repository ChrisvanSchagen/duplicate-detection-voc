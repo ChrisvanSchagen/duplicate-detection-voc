{
 "cells": [
  {
   "cell_type": "markdown",
   "metadata": {},
   "source": [
    "### TF-IDF model"
   ]
  },
  {
   "cell_type": "code",
   "execution_count": 13,
   "metadata": {},
   "outputs": [],
   "source": [
    "from sklearn.feature_extraction.text import TfidfVectorizer\n",
    "from sklearn.metrics.pairwise import cosine_similarity\n",
    "import os\n",
    "\n",
    "folder_path = \"../data/txt\"\n",
    "filenames = sorted(os.listdir(folder_path))\n",
    "\n",
    "# Load documents and line counts\n",
    "documents = []\n",
    "line_counts = []\n",
    "page_count = []\n",
    "for filename in filenames:\n",
    "    with open(os.path.join(folder_path, filename), encoding=\"utf-8\") as f:\n",
    "        lines = f.readlines()[24:]  # skip disclaimer\n",
    "        text_lines = [line.strip() for line in lines if not line.strip().startswith(\"#+\")]\n",
    "        documents.append(\" \".join(text_lines))\n",
    "        line_counts.append(len(text_lines))\n",
    "\n",
    "        # Keeping track of the highest page number\n",
    "        highest_page_number = 0\n",
    "        for line in lines:\n",
    "            if line.startswith(\"#+ NL-HaNA_\"):\n",
    "                splits = line.split(\"_\")\n",
    "                page_number = int(splits[3][:4])\n",
    "                if page_number > highest_page_number:\n",
    "                    highest_page_number = page_number\n",
    "        page_count.append(highest_page_number)\n",
    "\n",
    "# TF-IDF vectorization\n",
    "vectorizer = TfidfVectorizer(lowercase=True, max_features=None, max_df=0.9)\n",
    "tfidf_matrix = vectorizer.fit_transform(documents)"
   ]
  },
  {
   "cell_type": "code",
   "execution_count": 16,
   "metadata": {},
   "outputs": [
    {
     "data": {
      "text/plain": [
       "<6888x10900007 sparse matrix of type '<class 'numpy.float64'>'\n",
       "\twith 107660400 stored elements in Compressed Sparse Row format>"
      ]
     },
     "execution_count": 16,
     "metadata": {},
     "output_type": "execute_result"
    }
   ],
   "source": [
    "tfidf_matrix"
   ]
  },
  {
   "cell_type": "code",
   "execution_count": 33,
   "metadata": {},
   "outputs": [
    {
     "name": "stdout",
     "output_type": "stream",
     "text": [
      "Actual vocabulary size: 10900007\n",
      "fanaradelste\n",
      "amtrenk\n",
      "wangedagte\n",
      "belatelijx\n",
      "waarnament\n",
      "wesendlyjkste\n",
      "waarsieneje\n"
     ]
    }
   ],
   "source": [
    "# Inspecting some vocabulary features\n",
    "vocab = vectorizer.vocabulary_\n",
    "\n",
    "# Check how many words were used\n",
    "print(f\"Actual vocabulary size: {len(vocab)}\")\n",
    "\n",
    "# Check the last few items in the vocabulary dictionary\n",
    "for term, index in list(vocab.items())[10900000:10900007]:\n",
    "    print(term)"
   ]
  },
  {
   "cell_type": "markdown",
   "metadata": {},
   "source": [
    "### Computing cosine similarity"
   ]
  },
  {
   "cell_type": "code",
   "execution_count": 18,
   "metadata": {},
   "outputs": [],
   "source": [
    "# Cosine similarity\n",
    "cosine_sim_matrix = cosine_similarity(tfidf_matrix)"
   ]
  },
  {
   "cell_type": "code",
   "execution_count": 19,
   "metadata": {},
   "outputs": [
    {
     "data": {
      "text/plain": [
       "(6888, 6888)"
      ]
     },
     "execution_count": 19,
     "metadata": {},
     "output_type": "execute_result"
    }
   ],
   "source": [
    "cosine_sim_matrix.shape"
   ]
  },
  {
   "cell_type": "markdown",
   "metadata": {},
   "source": [
    "### Checking for (near) duplicates"
   ]
  },
  {
   "cell_type": "code",
   "execution_count": 23,
   "metadata": {},
   "outputs": [
    {
     "name": "stdout",
     "output_type": "stream",
     "text": [
      "Document 14571 and Document 19373 are similar with cosine similarity = 0.9727, page difference 0, and line difference = 145\n",
      "Document 14827 and Document 20132 are similar with cosine similarity = 0.9963, page difference 2, and line difference = 53\n",
      "Document 14934 and Document 16606 are similar with cosine similarity = 0.9556, page difference 40, and line difference = 1563\n",
      "Document 15055 and Document 15982 are similar with cosine similarity = 0.9670, page difference 146, and line difference = 726\n",
      "Document 15105 and Document 21335 are similar with cosine similarity = 0.9771, page difference 424, and line difference = 2155\n",
      "Document 15217 and Document 16822 are similar with cosine similarity = 0.9567, page difference 90, and line difference = 3962\n",
      "Document 15248 and Document 15548 are similar with cosine similarity = 0.9522, page difference 90, and line difference = 1796\n",
      "Document 15378 and Document 19109 are similar with cosine similarity = 0.9506, page difference 18, and line difference = 1677\n",
      "Document 15479 and Document 21194 are similar with cosine similarity = 0.9533, page difference 46, and line difference = 1643\n",
      "Document 15673 and Document 19494 are similar with cosine similarity = 0.9550, page difference 104, and line difference = 4268\n",
      "Document 16471 and Document 18233 are similar with cosine similarity = 0.9698, page difference 152, and line difference = 3954\n",
      "Document 16493 and Document 17010 are similar with cosine similarity = 0.9573, page difference 216, and line difference = 11414\n",
      "Document 16660 and Document 19531 are similar with cosine similarity = 0.9514, page difference 55, and line difference = 8777\n",
      "Document 16966 and Document 19545 are similar with cosine similarity = 0.9943, page difference 0, and line difference = 42\n",
      "Document 17092 and Document 21389 are similar with cosine similarity = 0.9508, page difference 174, and line difference = 5855\n",
      "Document 17353 and Document 21221 are similar with cosine similarity = 0.9572, page difference 386, and line difference = 3373\n",
      "Document 17990 and Document 21405 are similar with cosine similarity = 0.9518, page difference 68, and line difference = 1073\n",
      "Document 18020 and Document 19986 are similar with cosine similarity = 0.9604, page difference 593, and line difference = 34062\n",
      "Document 18028 and Document 21035 are similar with cosine similarity = 0.9505, page difference 4, and line difference = 11\n",
      "Document 18595 and Document 19257 are similar with cosine similarity = 0.9743, page difference 146, and line difference = 3496\n",
      "Document 19986 and Document 20735 are similar with cosine similarity = 0.9594, page difference 450, and line difference = 493\n"
     ]
    }
   ],
   "source": [
    "# Initialising list for the similarly grouped documents\n",
    "similar_docs = []\n",
    "\n",
    "# Check for near-duplicates\n",
    "threshold = 0.95\n",
    "for i in range(len(filenames)):\n",
    "    for j in range(i + 1, len(filenames)): # +1 so that it doesn't check for duplicates with itself or previous docs\n",
    "        similarity = cosine_sim_matrix[i, j]\n",
    "        if similarity > threshold:\n",
    "            # Line count\n",
    "            lines_i = line_counts[i]\n",
    "            lines_j = line_counts[j]\n",
    "            line_diff = abs(lines_i - lines_j)\n",
    "\n",
    "            # Page count\n",
    "            pages_i = page_count[i]\n",
    "            pages_j = page_count[j]\n",
    "            page_diff = abs(pages_i - pages_j)\n",
    "\n",
    "            # Saving tuple of the documents in list\n",
    "            similar_docs.append((filenames[i], filenames[j]))\n",
    "            print(f\"Document {filenames[i]} and Document {filenames[j]} are similar with cosine similarity = {similarity:.4f}, page difference {page_diff}, and line difference = {line_diff}\")"
   ]
  },
  {
   "cell_type": "markdown",
   "metadata": {},
   "source": [
    "### Copying documents classified as similair into a separate folder"
   ]
  },
  {
   "cell_type": "code",
   "execution_count": 32,
   "metadata": {},
   "outputs": [],
   "source": [
    "import shutil\n",
    "\n",
    "for i, docs in enumerate(similar_docs):\n",
    "    os.makedirs(f\"../data/TF-IDF grouped similar documents/group_{i}\", exist_ok=True)\n",
    "\n",
    "    shutil.copy(f\"../data/txt/{docs[0]}\", f\"../data/TF-IDF grouped similar documents/group_{i}/{docs[0]}\")\n",
    "    shutil.copy(f\"../data/txt/{docs[1]}\", f\"../data/TF-IDF grouped similar documents/group_{i}/{docs[1]}\")"
   ]
  }
 ],
 "metadata": {
  "kernelspec": {
   "display_name": "Python 3",
   "language": "python",
   "name": "python3"
  },
  "language_info": {
   "codemirror_mode": {
    "name": "ipython",
    "version": 3
   },
   "file_extension": ".py",
   "mimetype": "text/x-python",
   "name": "python",
   "nbconvert_exporter": "python",
   "pygments_lexer": "ipython3",
   "version": "3.11.8"
  }
 },
 "nbformat": 4,
 "nbformat_minor": 2
}
