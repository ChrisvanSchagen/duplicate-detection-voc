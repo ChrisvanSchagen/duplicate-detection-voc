{
 "cells": [
  {
   "cell_type": "markdown",
   "metadata": {},
   "source": [
    "### TF-IDF model"
   ]
  },
  {
   "cell_type": "code",
   "execution_count": null,
   "metadata": {},
   "outputs": [],
   "source": [
    "from sklearn.feature_extraction.text import TfidfVectorizer\n",
    "from sklearn.metrics.pairwise import cosine_similarity\n",
    "import os\n",
    "\n",
    "folder_path = \"../data/txt\"\n",
    "filenames = sorted(os.listdir(folder_path))\n",
    "\n",
    "# Load documents and line counts\n",
    "documents = []\n",
    "line_counts = []\n",
    "for filename in filenames:\n",
    "    with open(os.path.join(folder_path, filename), encoding=\"utf-8\") as f:\n",
    "        lines = f.readlines()[24:]  # skip disclaimer\n",
    "        text_lines = [line.strip() for line in lines if not line.strip().startswith(\"#+\")]\n",
    "        documents.append(\" \".join(text_lines))\n",
    "        line_counts.append(len(text_lines))\n",
    "\n",
    "# TF-IDF vectorization\n",
    "vectorizer = TfidfVectorizer(lowercase=True, max_features=100000)\n",
    "tfidf_matrix = vectorizer.fit_transform(documents)"
   ]
  },
  {
   "cell_type": "code",
   "execution_count": 7,
   "metadata": {},
   "outputs": [
    {
     "data": {
      "text/plain": [
       "<6888x100000 sparse matrix of type '<class 'numpy.float64'>'\n",
       "\twith 74589726 stored elements in Compressed Sparse Row format>"
      ]
     },
     "execution_count": 7,
     "metadata": {},
     "output_type": "execute_result"
    }
   ],
   "source": [
    "tfidf_matrix"
   ]
  },
  {
   "cell_type": "code",
   "execution_count": 26,
   "metadata": {},
   "outputs": [
    {
     "name": "stdout",
     "output_type": "stream",
     "text": [
      "Actual vocabulary size: 100000\n",
      "van\n",
      "de\n",
      "generale\n",
      "resolutien\n",
      "des\n",
      "casteels\n",
      "batavia\n",
      "genomen\n",
      "in\n",
      "rade\n",
      "india\n",
      "primo\n",
      "januarij\n",
      "tot\n",
      "den\n",
      "26\n",
      "februarij\n",
      "1714\n",
      "over\n",
      "diverse\n"
     ]
    }
   ],
   "source": [
    "# Inspecting some vocabulary features\n",
    "vocab = vectorizer.vocabulary_\n",
    "\n",
    "# Check how many words were used\n",
    "print(f\"Actual vocabulary size: {len(vocab)}\")\n",
    "\n",
    "# Check the first few items in the vocabulary dictionary\n",
    "for term, index in list(vocab.items())[:20]:\n",
    "    print(term)"
   ]
  },
  {
   "cell_type": "markdown",
   "metadata": {},
   "source": [
    "### Computing cosine similarity"
   ]
  },
  {
   "cell_type": "code",
   "execution_count": 4,
   "metadata": {},
   "outputs": [],
   "source": [
    "# Cosine similarity\n",
    "cosine_sim_matrix = cosine_similarity(tfidf_matrix)"
   ]
  },
  {
   "cell_type": "markdown",
   "metadata": {},
   "source": [
    "### Checking for (near) duplicates"
   ]
  },
  {
   "cell_type": "code",
   "execution_count": 11,
   "metadata": {},
   "outputs": [
    {
     "name": "stdout",
     "output_type": "stream",
     "text": [
      "Document 14571 and Document 19373 are similar with cosine similarity = 0.9989 and line diff = 145\n",
      "Document 14827 and Document 20132 are similar with cosine similarity = 0.9998 and line diff = 53\n",
      "Document 15192 and Document 20802 are similar with cosine similarity = 0.9927 and line diff = 127\n",
      "Document 15218 and Document 17965 are similar with cosine similarity = 0.9957 and line diff = 34\n",
      "Document 15249 and Document 17854 are similar with cosine similarity = 0.9942 and line diff = 104\n",
      "Document 15765 and Document 18697 are similar with cosine similarity = 0.9938 and line diff = 55\n",
      "Document 15880 and Document 18128 are similar with cosine similarity = 0.9982 and line diff = 85\n",
      "Document 15927 and Document 18234 are similar with cosine similarity = 0.9928 and line diff = 70\n",
      "Document 16808 and Document 20668 are similar with cosine similarity = 0.9967 and line diff = 84\n",
      "Document 16966 and Document 19545 are similar with cosine similarity = 0.9998 and line diff = 42\n",
      "Document 17838 and Document 20968 are similar with cosine similarity = 0.9937 and line diff = 132\n",
      "Document 18028 and Document 21035 are similar with cosine similarity = 0.9989 and line diff = 11\n"
     ]
    }
   ],
   "source": [
    "# Check for near-duplicates\n",
    "threshold = 0.99\n",
    "for i in range(len(filenames)):\n",
    "    for j in range(i + 1, len(filenames)):\n",
    "        similarity = cosine_sim_matrix[i, j]\n",
    "        if similarity > threshold:\n",
    "            # Check line count similarity\n",
    "            lines_i = line_counts[i]\n",
    "            lines_j = line_counts[j]\n",
    "            line_diff = abs(lines_i - lines_j)\n",
    "            if line_diff < 150:\n",
    "                print(f\"Document {filenames[i]} and Document {filenames[j]} are similar with cosine similarity = {similarity:.4f} and line diff = {line_diff}\")"
   ]
  }
 ],
 "metadata": {
  "kernelspec": {
   "display_name": "Python 3",
   "language": "python",
   "name": "python3"
  },
  "language_info": {
   "codemirror_mode": {
    "name": "ipython",
    "version": 3
   },
   "file_extension": ".py",
   "mimetype": "text/x-python",
   "name": "python",
   "nbconvert_exporter": "python",
   "pygments_lexer": "ipython3",
   "version": "3.11.8"
  }
 },
 "nbformat": 4,
 "nbformat_minor": 2
}
